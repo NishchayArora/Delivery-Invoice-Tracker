{
 "cells": [
  {
   "cell_type": "code",
   "execution_count": 1,
   "id": "48a42c2e",
   "metadata": {},
   "outputs": [],
   "source": [
    "# Import the pandas library\n",
    "import pandas as pd"
   ]
  },
  {
   "cell_type": "code",
   "execution_count": 2,
   "id": "e215cc20",
   "metadata": {},
   "outputs": [],
   "source": [
    "# Read all excel files\n",
    "Order_Report = pd.read_excel(r\"C:\\Users\\nishc\\OneDrive\\Desktop\\Study\\Assignment\\Company X - Order Report.xlsx\")\n",
    "Pincode_Zones = pd.read_excel(r\"C:\\Users\\nishc\\OneDrive\\Desktop\\Study\\Assignment\\Company X - Pincode Zones.xlsx\")\n",
    "SKU_Master = pd.read_excel(r\"C:\\Users\\nishc\\OneDrive\\Desktop\\Study\\Assignment\\Company X - SKU Master.xlsx\")\n",
    "Invoice = pd.read_excel(r\"C:\\Users\\nishc\\OneDrive\\Desktop\\Study\\Assignment\\Courier Company - Invoice.xlsx\")\n",
    "Rates = pd.read_excel(r\"C:\\Users\\nishc\\OneDrive\\Desktop\\Study\\Assignment\\Courier Company - Rates.xlsx\")"
   ]
  },
  {
   "cell_type": "code",
   "execution_count": 3,
   "id": "77415f9e",
   "metadata": {},
   "outputs": [],
   "source": [
    "# Remove duplicates from SKU Master and Pincode Zones\n",
    "SKU_Master=SKU_Master.drop_duplicates()\n",
    "Pincode_Zones=Pincode_Zones.drop_duplicates()\n",
    "# Merge Order report and SKU master to calculate the total weight of orders\n",
    "Order_Report = pd.merge(Order_Report, SKU_Master, on='SKU', how='left')\n",
    "# Calculate the total weight of orders(Product wise)\n",
    "Order_Report[\"Total_Weight\"]=Order_Report[\"Weight (g)\"]*Order_Report['Order Qty']\n",
    "# Convert the weight from g to kg\n",
    "Order_Report[\"Total_Weight\"]=Order_Report[\"Total_Weight\"]/1000"
   ]
  },
  {
   "cell_type": "code",
   "execution_count": 4,
   "id": "5a74a583",
   "metadata": {},
   "outputs": [],
   "source": [
    "# Calculate the total weight of orders(Order wise)\n",
    "Order_Weight = Order_Report.groupby(['ExternOrderNo'])['Total_Weight'].sum()"
   ]
  },
  {
   "cell_type": "code",
   "execution_count": 5,
   "id": "eface691",
   "metadata": {},
   "outputs": [],
   "source": [
    "# Merge Order weight as per X and Zone as per X in Invoice provided by courier company \n",
    "Invoice=pd.merge(Invoice,Order_Weight, left_on='Order ID', right_on='ExternOrderNo')\n",
    "Invoice = pd.merge(Invoice, Pincode_Zones, on=[\"Warehouse Pincode\", \"Customer Pincode\"], suffixes=('_CC', '_X'))"
   ]
  },
  {
   "cell_type": "code",
   "execution_count": 6,
   "id": "f13a565d",
   "metadata": {},
   "outputs": [],
   "source": [
    "# Convert zone in Rates to lower case for compatibility\n",
    "Rates['Zone']=Rates['Zone'].str.lower()"
   ]
  },
  {
   "cell_type": "code",
   "execution_count": 7,
   "id": "d2740f3d",
   "metadata": {},
   "outputs": [],
   "source": [
    "# Merge Rates in invoice on zone as per X\n",
    "Invoice = pd.merge(Invoice,Rates, left_on='Zone_X', right_on='Zone')"
   ]
  },
  {
   "cell_type": "code",
   "execution_count": 8,
   "id": "ab681c1d",
   "metadata": {},
   "outputs": [],
   "source": [
    "# Calculate total number of slab required for shipment of orders\n",
    "Invoice['Total_Slabs']=Invoice['Total_Weight']/Invoice['Weight Slabs']\n",
    "# Promoting total slabs column to next interger\n",
    "Invoice['Total_Slabs']=Invoice['Total_Slabs'].apply(lambda x: int(x) if x == int(x) else int(x) + 1)"
   ]
  },
  {
   "cell_type": "code",
   "execution_count": 9,
   "id": "07a5ad7c",
   "metadata": {},
   "outputs": [],
   "source": [
    "# Calculating additional Slabs required\n",
    "Invoice['Additional_Slabs']=Invoice['Total_Slabs']-1"
   ]
  },
  {
   "cell_type": "code",
   "execution_count": 10,
   "id": "5c10df2b",
   "metadata": {},
   "outputs": [],
   "source": [
    "# Calculating Forward Additional Charges and RTO Additional Charges\n",
    "Invoice['Forward Additional Charge']=Invoice['Forward Additional Weight Slab Charge']*Invoice['Additional_Slabs']\n",
    "Invoice['RTO Additional Charge']=Invoice['RTO Additional Weight Slab Charge']*Invoice['Additional_Slabs']"
   ]
  },
  {
   "cell_type": "code",
   "execution_count": 11,
   "id": "d9557946",
   "metadata": {},
   "outputs": [],
   "source": [
    "# Calculating total charge as per type of Shipment\n",
    "Invoice.loc[Invoice['Type of Shipment'] == \"Forward charges\", \"Total Charge\"] = Invoice['Forward Fixed Charge']+Invoice['Forward Additional Charge']\n",
    "Invoice.loc[Invoice['Type of Shipment'] == \"Forward and RTO charges\", \"Total Charge\"] = Invoice['Forward Fixed Charge']+Invoice['Forward Additional Charge']+Invoice['RTO Fixed Charge']+Invoice['RTO Additional Charge']"
   ]
  },
  {
   "cell_type": "code",
   "execution_count": 12,
   "id": "1897a6a6",
   "metadata": {},
   "outputs": [
    {
     "name": "stderr",
     "output_type": "stream",
     "text": [
      "C:\\Users\\nishc\\AppData\\Local\\Temp\\ipykernel_14724\\4610461.py:4: FutureWarning: Setting an item of incompatible dtype is deprecated and will raise in a future error of pandas. Value 'Over Charged' has dtype incompatible with float64, please explicitly cast to a compatible dtype first.\n",
      "  Invoice.loc[Invoice['Charge Diffrence']>0, 'Charge Status']= \"Over Charged\"\n"
     ]
    }
   ],
   "source": [
    "# Calculating charge diffrence in total charge as per X and billing charge as per courier comapny\n",
    "Invoice['Charge Diffrence']=Invoice['Billing Amount (Rs.)'].round(2)-Invoice['Total Charge'].round(2)\n",
    "# calculating charge status to be over charged, under charged or correctly charged \n",
    "Invoice.loc[Invoice['Charge Diffrence']>0, 'Charge Status']= \"Over Charged\"\n",
    "Invoice.loc[Invoice['Charge Diffrence']<0, 'Charge Status']= \"Under Charged\"\n",
    "Invoice.loc[Invoice['Charge Diffrence']==0, 'Charge Status']= \"Correctly Charged\""
   ]
  },
  {
   "cell_type": "code",
   "execution_count": 13,
   "id": "abef0257",
   "metadata": {},
   "outputs": [],
   "source": [
    "# Merge rates in invoice on zone as per courier company to get Weight Slabs as per courier company\n",
    "Invoice = pd.merge(Invoice, Rates, left_on='Zone_CC', right_on='Zone', suffixes=(' as per X', ' as per CC'))"
   ]
  },
  {
   "cell_type": "code",
   "execution_count": 14,
   "id": "688e6022",
   "metadata": {},
   "outputs": [],
   "source": [
    "# Creating new dataframe to display required columns  \n",
    "Output_Data_1=Invoice[['Order ID','AWB Code','Total_Weight','Weight Slabs as per X','Charged Weight', 'Weight Slabs as per CC','Zone_X','Zone_CC','Total Charge','Billing Amount (Rs.)','Charge Diffrence']].rename(columns={'Total_Weight':'Total Weight as per X', 'Charged Weight':'Total weight as per CC','Zone_X':'Zone as per X','Zone_CC':'Zone as per CC','Total Charge':'Expected Charge as per X','Billing Amount (Rs.)':'Charges Billed by CC'})"
   ]
  },
  {
   "cell_type": "code",
   "execution_count": 15,
   "id": "897194fb",
   "metadata": {},
   "outputs": [],
   "source": [
    "Output_Data_2=Invoice[['Charge Status', 'Charge Diffrence']]"
   ]
  },
  {
   "cell_type": "code",
   "execution_count": 16,
   "id": "3a7030d6",
   "metadata": {},
   "outputs": [],
   "source": [
    "Output_Data_2=Output_Data_2.groupby(['Charge Status'])['Charge Diffrence'].agg(['count','sum']).rename(columns={'count':'Count','sum':'Amount (Rs.)'})"
   ]
  },
  {
   "cell_type": "code",
   "execution_count": 17,
   "id": "b327533b",
   "metadata": {},
   "outputs": [],
   "source": [
    "Output_Data_1.to_excel('Output_Data_1.xlsx', index=False)"
   ]
  },
  {
   "cell_type": "code",
   "execution_count": 18,
   "id": "43305a97",
   "metadata": {},
   "outputs": [],
   "source": [
    "Output_Data_2.to_excel('Output_Data_2.xlsx')"
   ]
  },
  {
   "cell_type": "code",
   "execution_count": null,
   "id": "4926e059",
   "metadata": {},
   "outputs": [],
   "source": []
  }
 ],
 "metadata": {
  "kernelspec": {
   "display_name": "Python 3 (ipykernel)",
   "language": "python",
   "name": "python3"
  },
  "language_info": {
   "codemirror_mode": {
    "name": "ipython",
    "version": 3
   },
   "file_extension": ".py",
   "mimetype": "text/x-python",
   "name": "python",
   "nbconvert_exporter": "python",
   "pygments_lexer": "ipython3",
   "version": "3.11.4"
  }
 },
 "nbformat": 4,
 "nbformat_minor": 5
}
